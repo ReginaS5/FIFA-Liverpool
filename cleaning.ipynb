{
 "cells": [
  {
   "cell_type": "code",
   "execution_count": 3,
   "id": "2886fa5a",
   "metadata": {},
   "outputs": [],
   "source": [
    "import pandas as pd\n",
    "import numpy as np"
   ]
  },
  {
   "cell_type": "code",
   "execution_count": 4,
   "id": "515f2012",
   "metadata": {},
   "outputs": [],
   "source": [
    "def value_to_float(x):\n",
    "    if type(x) == float or type(x) == int:\n",
    "        return x\n",
    "    if 'K' in x:\n",
    "        if len(x) > 1:\n",
    "            return float(x.replace('K', '')) * 1000\n",
    "        return 1000.0\n",
    "    if 'M' in x:\n",
    "        if len(x) > 1:\n",
    "            return float(x.replace('M', '')) * 1000000\n",
    "        return 1000000.0\n",
    "    if 'B' in x:\n",
    "        return float(x.replace('B', '')) * 1000000000\n",
    "    return int(x)"
   ]
  },
  {
   "cell_type": "code",
   "execution_count": 5,
   "id": "533a693a",
   "metadata": {},
   "outputs": [],
   "source": [
    "def clean_df(df):\n",
    "    df.duplicated()\n",
    "    df = df.drop_duplicates()\n",
    "    df = df.dropna(how='all')\n",
    "    \n",
    "    n_cols = []\n",
    "    for i in range(len(df.columns)):\n",
    "         n_cols.append(df.columns[i].lower().replace('&','').replace(' ','_'))\n",
    "    df.columns = n_cols\n",
    "    df = df.rename(columns={'team__contract':'team_contract'})\n",
    "    #df.head()\n",
    "    \n",
    "    df['weight']= df['weight'].str.replace('lbs','').astype('int')\n",
    "    #print(fifa_data['weight'])\n",
    "    \n",
    "    df['height']= df['height'].str.replace('\"','')\n",
    "    df['height'] = df['height'].apply(lambda x: int(x.split(\"'\")[0])*30.48 + int(x.split(\"'\")[1])*2.54)\n",
    "    \n",
    "    df['value'] = df['value'].str.replace('€','')\n",
    "    df['value'] = df['value'].apply(value_to_float)\n",
    "\n",
    "    df['wage'] = df['wage'].str.replace('€','')\n",
    "    df['wage'] = df['wage'].apply(value_to_float)\n",
    "\n",
    "    df['release_clause'] = df['release_clause'].str.replace('€','')\n",
    "    df['release_clause'] = df['release_clause'].apply(value_to_float)\n",
    "    \n",
    "    df['hits'] = df['hits'].apply(value_to_float)\n",
    "    cols_to_fill = ['curve','volleys','agility','balance', 'jumping', 'interceptions', 'positioning', 'vision', 'composure', 'sliding_tackle']\n",
    "    df[cols_to_fill] = df[cols_to_fill].fillna(0)\n",
    "    #fifa_data.isna().sum()\n",
    "    \n",
    "    df['a/w'] = df['a/w'].fillna('Medium')\n",
    "    df['d/w'] = df['d/w'].fillna('Medium')\n",
    "    \n",
    "    df['sm'] = df['sm'].str.rstrip('★').astype('int')\n",
    "    df['w/f'] = df['w/f'].str.rstrip('★').astype('int')\n",
    "    df['ir'] = df['ir'].str.rstrip('★').astype('int')\n",
    "    \n",
    "    for column in df.iloc[:,df.columns.get_loc('pac'):df.columns.get_loc('hits')]:\n",
    "        df[column] = df[column].fillna(df[column].mean())\n",
    "        \n",
    "    for column in df.iloc[:,df.columns.get_loc('ls'):len(df.columns)-1]:\n",
    "        #print(\"Column: \", column)\n",
    "        df[column] = df[column].apply(lambda x: int(x.split(\"+\")[0]))\n",
    "        #opt2[column] = fifa_data[column].apply(lambda x: int(x.split(\"+\")[0]) + int(x.split(\"+\")[1]))\n",
    "    \n",
    "    return df"
   ]
  },
  {
   "cell_type": "code",
   "execution_count": null,
   "id": "964d1101",
   "metadata": {},
   "outputs": [],
   "source": []
  }
 ],
 "metadata": {
  "kernelspec": {
   "display_name": "Python 3 (ipykernel)",
   "language": "python",
   "name": "python3"
  },
  "language_info": {
   "codemirror_mode": {
    "name": "ipython",
    "version": 3
   },
   "file_extension": ".py",
   "mimetype": "text/x-python",
   "name": "python",
   "nbconvert_exporter": "python",
   "pygments_lexer": "ipython3",
   "version": "3.9.13"
  }
 },
 "nbformat": 4,
 "nbformat_minor": 5
}
